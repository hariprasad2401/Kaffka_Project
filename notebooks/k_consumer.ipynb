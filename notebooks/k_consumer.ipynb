{
 "cells": [
  {
   "cell_type": "code",
   "execution_count": 30,
   "metadata": {},
   "outputs": [],
   "source": [
    "from kafka import KafkaConsumer\n",
    "from time import sleep\n",
    "from json import dumps,loads\n",
    "import json\n",
    "from google.cloud import storage"
   ]
  },
  {
   "cell_type": "code",
   "execution_count": 44,
   "metadata": {},
   "outputs": [
    {
     "name": "stdout",
     "output_type": "stream",
     "text": [
      "<kafka.consumer.group.KafkaConsumer object at 0x0000026271839FD0>\n"
     ]
    }
   ],
   "source": [
    "consumer=KafkaConsumer(\n",
    "    'demo_test',\n",
    "    bootstrap_servers=['34.68.207.10:9092'], #add your IP here\n",
    "    value_deserializer=lambda x: loads(x.decode('utf-8')),\n",
    "    max_poll_records=100\n",
    ")\n",
    "\n",
    "print(consumer)"
   ]
  },
  {
   "cell_type": "code",
   "execution_count": null,
   "metadata": {},
   "outputs": [],
   "source": [
    "storage_client=storage.Client()\n",
    "gcs_bucket_name='kafka-data-pipeline-bucket'\n",
    "gcs_bucket=storage_client.bucket(gcs_bucket_name)\n",
    "\n",
    "\n",
    "# Iterate through Kafka messages\n",
    "for count, message in enumerate(consumer):\n",
    "    # print(f'count:{count},message:{message}')\n",
    "    # Dump the message value to a GCS file\n",
    "    gcs_blob = gcs_bucket.blob(f\"student_performance{count}.json\")\n",
    "    with gcs_blob.open('w') as file:\n",
    "        json.dump(message.value, file)\n",
    "\n",
    "# Close the Kafka consumer\n",
    "consumer.close()\n"
   ]
  },
  {
   "cell_type": "code",
   "execution_count": 47,
   "metadata": {},
   "outputs": [],
   "source": [
    "# for message in consumer:\n",
    "#     print(message.value)"
   ]
  }
 ],
 "metadata": {
  "kernelspec": {
   "display_name": "venv",
   "language": "python",
   "name": "python3"
  },
  "language_info": {
   "codemirror_mode": {
    "name": "ipython",
    "version": 3
   },
   "file_extension": ".py",
   "mimetype": "text/x-python",
   "name": "python",
   "nbconvert_exporter": "python",
   "pygments_lexer": "ipython3",
   "version": "3.11.1"
  }
 },
 "nbformat": 4,
 "nbformat_minor": 2
}
